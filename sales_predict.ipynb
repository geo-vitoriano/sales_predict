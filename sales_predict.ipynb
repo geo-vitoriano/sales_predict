console.log("Modelo de machine learning, para prever vendas na janela de tempo de um mês.")
